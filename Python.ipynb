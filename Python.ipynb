{
  "nbformat": 4,
  "nbformat_minor": 0,
  "metadata": {
    "colab": {
      "provenance": [],
      "authorship_tag": "ABX9TyOpKUOS2bEcIYOg74S+0P+G",
      "include_colab_link": true
    },
    "kernelspec": {
      "name": "python3",
      "display_name": "Python 3"
    },
    "language_info": {
      "name": "python"
    }
  },
  "cells": [
    {
      "cell_type": "markdown",
      "metadata": {
        "id": "view-in-github",
        "colab_type": "text"
      },
      "source": [
        "<a href=\"https://colab.research.google.com/github/annasll/Python-Basic/blob/main/Python.ipynb\" target=\"_parent\"><img src=\"https://colab.research.google.com/assets/colab-badge.svg\" alt=\"Open In Colab\"/></a>"
      ]
    },
    {
      "cell_type": "code",
      "execution_count": 2,
      "metadata": {
        "id": "Nkmhjqt5iNgx",
        "outputId": "309aef84-c392-439d-9281-bba8c947e055",
        "colab": {
          "base_uri": "https://localhost:8080/"
        }
      },
      "outputs": [
        {
          "output_type": "stream",
          "name": "stdout",
          "text": [
            "a karol so fica no youtube\n"
          ]
        }
      ],
      "source": [
        "print(\"a karol so fica no youtube\")"
      ]
    },
    {
      "cell_type": "markdown",
      "source": [
        "# Karolayne não faz nada"
      ],
      "metadata": {
        "id": "bgzdHzkDkBnm"
      }
    },
    {
      "cell_type": "code",
      "source": [
        "aluna = \"não faz nada\"\n",
        "\n",
        "print( aluna, \"sempre\")"
      ],
      "metadata": {
        "id": "A8vIG8lnkFai",
        "outputId": "645f3abe-f670-4d10-a894-939ba1f09f02",
        "colab": {
          "base_uri": "https://localhost:8080/"
        }
      },
      "execution_count": 5,
      "outputs": [
        {
          "output_type": "stream",
          "name": "stdout",
          "text": [
            "não faz nada sempre\n"
          ]
        }
      ]
    },
    {
      "cell_type": "code",
      "source": [
        "(\"o povo dessa sala é chato\")"
      ],
      "metadata": {
        "id": "WCCmWcP2inlp",
        "outputId": "3cd7a6a7-aa08-4975-98c5-843b6435332e",
        "colab": {
          "base_uri": "https://localhost:8080/",
          "height": 35
        }
      },
      "execution_count": 8,
      "outputs": [
        {
          "output_type": "execute_result",
          "data": {
            "text/plain": [
              "'o povo dessa sala é chato'"
            ],
            "application/vnd.google.colaboratory.intrinsic+json": {
              "type": "string"
            }
          },
          "metadata": {},
          "execution_count": 8
        }
      ]
    }
  ]
}