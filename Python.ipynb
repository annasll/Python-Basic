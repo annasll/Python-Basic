{
  "nbformat": 4,
  "nbformat_minor": 0,
  "metadata": {
    "colab": {
      "provenance": [],
      "authorship_tag": "ABX9TyMauE6oRcPUi8DaUsAK/w05",
      "include_colab_link": true
    },
    "kernelspec": {
      "name": "python3",
      "display_name": "Python 3"
    },
    "language_info": {
      "name": "python"
    }
  },
  "cells": [
    {
      "cell_type": "markdown",
      "metadata": {
        "id": "view-in-github",
        "colab_type": "text"
      },
      "source": [
        "<a href=\"https://colab.research.google.com/github/annasll/Python-Basic/blob/main/Python.ipynb\" target=\"_parent\"><img src=\"https://colab.research.google.com/assets/colab-badge.svg\" alt=\"Open In Colab\"/></a>"
      ]
    },
    {
      "cell_type": "code",
      "execution_count": null,
      "metadata": {
        "id": "Nkmhjqt5iNgx",
        "outputId": "309aef84-c392-439d-9281-bba8c947e055",
        "colab": {
          "base_uri": "https://localhost:8080/"
        }
      },
      "outputs": [
        {
          "output_type": "stream",
          "name": "stdout",
          "text": [
            "a karol so fica no youtube\n"
          ]
        }
      ],
      "source": [
        "print(\"a karol so fica no youtube\")"
      ]
    },
    {
      "cell_type": "markdown",
      "source": [
        "# Karolayne não faz nada"
      ],
      "metadata": {
        "id": "bgzdHzkDkBnm"
      }
    },
    {
      "cell_type": "code",
      "source": [
        "aluna = \"não faz nada\"\n",
        "\n",
        "print( aluna, \"sempre\")"
      ],
      "metadata": {
        "id": "A8vIG8lnkFai",
        "outputId": "645f3abe-f670-4d10-a894-939ba1f09f02",
        "colab": {
          "base_uri": "https://localhost:8080/"
        }
      },
      "execution_count": null,
      "outputs": [
        {
          "output_type": "stream",
          "name": "stdout",
          "text": [
            "não faz nada sempre\n"
          ]
        }
      ]
    },
    {
      "cell_type": "code",
      "source": [
        "(\"o povo dessa sala é chato\")"
      ],
      "metadata": {
        "id": "WCCmWcP2inlp",
        "outputId": "3cd7a6a7-aa08-4975-98c5-843b6435332e",
        "colab": {
          "base_uri": "https://localhost:8080/",
          "height": 35
        }
      },
      "execution_count": null,
      "outputs": [
        {
          "output_type": "execute_result",
          "data": {
            "text/plain": [
              "'o povo dessa sala é chato'"
            ],
            "application/vnd.google.colaboratory.intrinsic+json": {
              "type": "string"
            }
          },
          "metadata": {},
          "execution_count": 8
        }
      ]
    },
    {
      "cell_type": "code",
      "source": [
        "ficcao=10\n",
        "nficcao=8\n",
        "infantil=6\n",
        "\n",
        "livros_lidos = 9\n",
        "\n",
        "soma = (ficcao * 3) + (nficcao * 2) + (infantil * 4)\n",
        "\n",
        "print(f\"A soma dos pontos de Rodrigo são {soma}\")\n",
        "\n",
        "print(f\"Ele leu: {livros_lidos} livros - Parabéns continue assim!!\")\n",
        "\n"
      ],
      "metadata": {
        "id": "Qul5yt-H5eIL",
        "outputId": "ff06dc12-24d3-4c39-d8bb-358681775614",
        "colab": {
          "base_uri": "https://localhost:8080/"
        }
      },
      "execution_count": 8,
      "outputs": [
        {
          "output_type": "stream",
          "name": "stdout",
          "text": [
            "A soma dos pontos de Rodrigo são 70\n",
            "Ele leu: 9 livros - Parabéns continue assim!!\n"
          ]
        }
      ]
    },
    {
      "cell_type": "code",
      "source": [
        "livro_ficcao = 10\n",
        "livro_nficcao = 8\n",
        "livro_infantil = 6"
      ],
      "metadata": {
        "id": "Nam0OC3l8awc"
      },
      "execution_count": 9,
      "outputs": []
    }
  ]
}